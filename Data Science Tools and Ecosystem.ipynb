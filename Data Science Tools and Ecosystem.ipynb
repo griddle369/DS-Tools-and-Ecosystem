{
 "cells": [
  {
   "cell_type": "markdown",
   "id": "2a3ac99d-3c64-4ea1-aa69-bdc26a738651",
   "metadata": {},
   "source": [
    "# Data Science Tools and Ecosystem"
   ]
  },
  {
   "cell_type": "markdown",
   "id": "d285b703-0f52-4b1f-a8d3-e1790c3c5f88",
   "metadata": {},
   "source": [
    "In this notebook, Data Science Tools and Ecosystem are summarized."
   ]
  },
  {
   "cell_type": "markdown",
   "id": "a740eba9-efbf-474a-a5be-ba5dc22e58ff",
   "metadata": {},
   "source": [
    "Some of the popular languages that Data Scientists use are:\n",
    "1. Python\n",
    "2. R\n",
    "3. Scala\n",
    "4. SQL"
   ]
  },
  {
   "cell_type": "markdown",
   "id": "610efd71-3d3f-41e4-aa44-d0bc3664acf7",
   "metadata": {},
   "source": [
    "Some of the commonly used libraries used by Data Scientists include:\n",
    "1. Pandas\n",
    "2. NumPy\n",
    "3. Sci-kit learn \n",
    "4. Matplotlib\n",
    "5. Keras\n",
    "6. Tensor Flow"
   ]
  },
  {
   "cell_type": "markdown",
   "id": "0cbdb61f-f5f1-48ed-a6f4-7f1a235479c2",
   "metadata": {},
   "source": [
    "|Data Science Tools|\n",
    "|------------------|\n",
    "|Apache CouchDB|\n",
    "|Apache Cassandra|\n",
    "|Apache Airflow|\n",
    "|Node-RED|\n",
    "|Pixie Dust|"
   ]
  },
  {
   "cell_type": "markdown",
   "id": "35ddfc1f-7ba1-497f-9e8c-8be256a6a688",
   "metadata": {},
   "source": [
    "Below are a few examples of evaluating arithmetic expressions in Python"
   ]
  },
  {
   "cell_type": "code",
   "execution_count": 8,
   "id": "72a0d352-7863-4718-aa2b-09e88d44fa64",
   "metadata": {},
   "outputs": [
    {
     "data": {
      "text/plain": [
       "17"
      ]
     },
     "execution_count": 8,
     "metadata": {},
     "output_type": "execute_result"
    }
   ],
   "source": [
    "#This is a simple arithmetic expression to multiply then add integers.\n",
    "(3*4)+5"
   ]
  },
  {
   "cell_type": "code",
   "execution_count": 9,
   "id": "1b141ade-3a95-4962-a57d-ad0db0caf63f",
   "metadata": {},
   "outputs": [
    {
     "name": "stdout",
     "output_type": "stream",
     "text": [
      "3.3333333333333335\n"
     ]
    }
   ],
   "source": [
    "#This will convert 200 minutes to hours by dividing by 60\n",
    "minutes = 200\n",
    "hours = minutes/60\n",
    "print(hours)"
   ]
  },
  {
   "cell_type": "markdown",
   "id": "b29cc263-9d89-4f88-a381-97a30b4336bc",
   "metadata": {},
   "source": [
    "**Objectives:**\n",
    "- List popular Data Science Tools\n",
    "- List popular Data Science Libraries\n",
    "- List popular Data Science languages\n",
    "- Display notebook code block display\n",
    "- Illustrate coding some simple math expressions"
   ]
  },
  {
   "cell_type": "markdown",
   "id": "bcbdd3ee-8ba4-44df-94a7-a0d62f413fc7",
   "metadata": {},
   "source": [
    "## Author\n",
    "Gabe Riddle\n"
   ]
  }
 ],
 "metadata": {
  "kernelspec": {
   "display_name": "Python 3 (ipykernel)",
   "language": "python",
   "name": "python3"
  },
  "language_info": {
   "codemirror_mode": {
    "name": "ipython",
    "version": 3
   },
   "file_extension": ".py",
   "mimetype": "text/x-python",
   "name": "python",
   "nbconvert_exporter": "python",
   "pygments_lexer": "ipython3",
   "version": "3.12.4"
  }
 },
 "nbformat": 4,
 "nbformat_minor": 5
}
